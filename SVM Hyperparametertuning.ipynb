{
 "cells": [
  {
   "cell_type": "code",
   "execution_count": 1,
   "id": "a7de139f",
   "metadata": {},
   "outputs": [],
   "source": [
    "import numpy as np\n",
    "import pandas as pd\n",
    "import matplotlib.pyplot as plt\n",
    "import seaborn as sns\n",
    "from sklearn.linear_model import LogisticRegression\n",
    "from sklearn.model_selection import train_test_split,StratifiedKFold,GridSearchCV,RandomizedSearchCV\n",
    "from sklearn.svm import SVC\n",
    "from sklearn.preprocessing import StandardScaler\n",
    "from sklearn.metrics import accuracy_score\n",
    "\n",
    "from sklearn import datasets"
   ]
  },
  {
   "cell_type": "code",
   "execution_count": 2,
   "id": "c5750753",
   "metadata": {
    "scrolled": true
   },
   "outputs": [],
   "source": [
    "data = datasets.load_breast_cancer()\n",
    "data_df = pd.DataFrame(data = data[\"data\"],columns=data.feature_names)\n",
    "data_df[\"target\"] = data.target"
   ]
  },
  {
   "cell_type": "code",
   "execution_count": 3,
   "id": "ddbae773",
   "metadata": {},
   "outputs": [
    {
     "name": "stdout",
     "output_type": "stream",
     "text": [
      "<class 'pandas.core.frame.DataFrame'>\n",
      "RangeIndex: 569 entries, 0 to 568\n",
      "Data columns (total 31 columns):\n",
      " #   Column                   Non-Null Count  Dtype  \n",
      "---  ------                   --------------  -----  \n",
      " 0   mean radius              569 non-null    float64\n",
      " 1   mean texture             569 non-null    float64\n",
      " 2   mean perimeter           569 non-null    float64\n",
      " 3   mean area                569 non-null    float64\n",
      " 4   mean smoothness          569 non-null    float64\n",
      " 5   mean compactness         569 non-null    float64\n",
      " 6   mean concavity           569 non-null    float64\n",
      " 7   mean concave points      569 non-null    float64\n",
      " 8   mean symmetry            569 non-null    float64\n",
      " 9   mean fractal dimension   569 non-null    float64\n",
      " 10  radius error             569 non-null    float64\n",
      " 11  texture error            569 non-null    float64\n",
      " 12  perimeter error          569 non-null    float64\n",
      " 13  area error               569 non-null    float64\n",
      " 14  smoothness error         569 non-null    float64\n",
      " 15  compactness error        569 non-null    float64\n",
      " 16  concavity error          569 non-null    float64\n",
      " 17  concave points error     569 non-null    float64\n",
      " 18  symmetry error           569 non-null    float64\n",
      " 19  fractal dimension error  569 non-null    float64\n",
      " 20  worst radius             569 non-null    float64\n",
      " 21  worst texture            569 non-null    float64\n",
      " 22  worst perimeter          569 non-null    float64\n",
      " 23  worst area               569 non-null    float64\n",
      " 24  worst smoothness         569 non-null    float64\n",
      " 25  worst compactness        569 non-null    float64\n",
      " 26  worst concavity          569 non-null    float64\n",
      " 27  worst concave points     569 non-null    float64\n",
      " 28  worst symmetry           569 non-null    float64\n",
      " 29  worst fractal dimension  569 non-null    float64\n",
      " 30  target                   569 non-null    int32  \n",
      "dtypes: float64(30), int32(1)\n",
      "memory usage: 135.7 KB\n"
     ]
    }
   ],
   "source": [
    "data_df.info()"
   ]
  },
  {
   "cell_type": "code",
   "execution_count": 4,
   "id": "7afe9e36",
   "metadata": {},
   "outputs": [],
   "source": [
    "ind_features = data.feature_names"
   ]
  },
  {
   "cell_type": "code",
   "execution_count": 5,
   "id": "31d89c91",
   "metadata": {},
   "outputs": [],
   "source": [
    "sc = StandardScaler()\n",
    "x_scaled = sc.fit_transform(data_df[ind_features])"
   ]
  },
  {
   "cell_type": "code",
   "execution_count": 6,
   "id": "9493f4e9",
   "metadata": {},
   "outputs": [],
   "source": [
    "X = pd.DataFrame(data = x_scaled, index=data_df.index, columns= ind_features)\n",
    "y = data_df[\"target\"]"
   ]
  },
  {
   "cell_type": "code",
   "execution_count": 7,
   "id": "40a3b59c",
   "metadata": {},
   "outputs": [],
   "source": [
    "X_train, X_test, y_train, y_test = train_test_split(X,y,random_state=42, stratify=y)"
   ]
  },
  {
   "cell_type": "code",
   "execution_count": 8,
   "id": "79b5f9f3",
   "metadata": {},
   "outputs": [
    {
     "name": "stdout",
     "output_type": "stream",
     "text": [
      "Training Accuracy 1.0\n",
      "Testing Accuracy 1.0\n"
     ]
    }
   ],
   "source": [
    "svc_model = SVC(random_state=42)\n",
    "svc_model.fit(X_train,y_train)\n",
    "\n",
    "y_train_pred=svc_model.predict(X_train)\n",
    "y_test_pred=svc_model.predict(X_test)\n",
    "\n",
    "print(\"Training Accuracy\",np.round(accuracy_score(y_train,y_train_pred)))\n",
    "print(\"Testing Accuracy\",np.round(accuracy_score(y_test,y_test_pred)))"
   ]
  },
  {
   "cell_type": "code",
   "execution_count": 9,
   "id": "184e1d41",
   "metadata": {},
   "outputs": [],
   "source": [
    "## Default params of the model\n",
    "svc_model.get_params()\n",
    "param = {\n",
    "    \n",
    "    \"C\":np.logspace(-1, 2, 5),\n",
    "    \"kernel\":[\"linear\",\"rbf\",\"poly\"],\n",
    "    \"gamma\": list(np.logspace(-1, 2, 5))+[\"auto\",\"scale\"]   \n",
    "}\n",
    "scoring_metrics = [\"accuracy\"]\n",
    "kfold = StratifiedKFold(n_splits=5,shuffle=True,random_state=42)"
   ]
  },
  {
   "cell_type": "markdown",
   "id": "3ab00b7e",
   "metadata": {},
   "source": [
    "We specified a few options for `GridSearchCV`.\n",
    "* `estimator=svc` means we are using Support Vector Classifier as the model.\n",
    "* `param_grid=param_grid` takes our pre-defined search space for the grid search.\n",
    "* `scoring=scoring` set the performance evaluation metric. Because we set the scoring to  'accuracy', the model will use accuracy as the evaluation metric.\n",
    "* `refit='accuracy'` enables refitting the model with the best parameters on the whole training dataset.\n",
    "* `n_jobs=-1` means parallel processing using all the processors.\n",
    "* `cv=kfold` takes the `StratifiedKFold` we defined.\n",
    "* `verbose` controls the number of messages returned by the grid search. The higher the number, the more information is returned. `verbose=0` means silent."
   ]
  },
  {
   "cell_type": "code",
   "execution_count": 10,
   "id": "2f2d790d",
   "metadata": {},
   "outputs": [],
   "source": [
    "grid_search = GridSearchCV(estimator=svc_model, param_grid= param,\n",
    "                           scoring=scoring_metrics,\n",
    "                           n_jobs=-1,\n",
    "                           refit=\"accuracy\",\n",
    "                            cv=kfold,\n",
    "                            verbose=0,\n",
    "                            pre_dispatch='2*n_jobs',\n",
    "                            return_train_score=True)"
   ]
  },
  {
   "cell_type": "code",
   "execution_count": 11,
   "id": "e46a56ff",
   "metadata": {},
   "outputs": [
    {
     "data": {
      "text/html": [
       "<style>#sk-container-id-1 {color: black;background-color: white;}#sk-container-id-1 pre{padding: 0;}#sk-container-id-1 div.sk-toggleable {background-color: white;}#sk-container-id-1 label.sk-toggleable__label {cursor: pointer;display: block;width: 100%;margin-bottom: 0;padding: 0.3em;box-sizing: border-box;text-align: center;}#sk-container-id-1 label.sk-toggleable__label-arrow:before {content: \"▸\";float: left;margin-right: 0.25em;color: #696969;}#sk-container-id-1 label.sk-toggleable__label-arrow:hover:before {color: black;}#sk-container-id-1 div.sk-estimator:hover label.sk-toggleable__label-arrow:before {color: black;}#sk-container-id-1 div.sk-toggleable__content {max-height: 0;max-width: 0;overflow: hidden;text-align: left;background-color: #f0f8ff;}#sk-container-id-1 div.sk-toggleable__content pre {margin: 0.2em;color: black;border-radius: 0.25em;background-color: #f0f8ff;}#sk-container-id-1 input.sk-toggleable__control:checked~div.sk-toggleable__content {max-height: 200px;max-width: 100%;overflow: auto;}#sk-container-id-1 input.sk-toggleable__control:checked~label.sk-toggleable__label-arrow:before {content: \"▾\";}#sk-container-id-1 div.sk-estimator input.sk-toggleable__control:checked~label.sk-toggleable__label {background-color: #d4ebff;}#sk-container-id-1 div.sk-label input.sk-toggleable__control:checked~label.sk-toggleable__label {background-color: #d4ebff;}#sk-container-id-1 input.sk-hidden--visually {border: 0;clip: rect(1px 1px 1px 1px);clip: rect(1px, 1px, 1px, 1px);height: 1px;margin: -1px;overflow: hidden;padding: 0;position: absolute;width: 1px;}#sk-container-id-1 div.sk-estimator {font-family: monospace;background-color: #f0f8ff;border: 1px dotted black;border-radius: 0.25em;box-sizing: border-box;margin-bottom: 0.5em;}#sk-container-id-1 div.sk-estimator:hover {background-color: #d4ebff;}#sk-container-id-1 div.sk-parallel-item::after {content: \"\";width: 100%;border-bottom: 1px solid gray;flex-grow: 1;}#sk-container-id-1 div.sk-label:hover label.sk-toggleable__label {background-color: #d4ebff;}#sk-container-id-1 div.sk-serial::before {content: \"\";position: absolute;border-left: 1px solid gray;box-sizing: border-box;top: 0;bottom: 0;left: 50%;z-index: 0;}#sk-container-id-1 div.sk-serial {display: flex;flex-direction: column;align-items: center;background-color: white;padding-right: 0.2em;padding-left: 0.2em;position: relative;}#sk-container-id-1 div.sk-item {position: relative;z-index: 1;}#sk-container-id-1 div.sk-parallel {display: flex;align-items: stretch;justify-content: center;background-color: white;position: relative;}#sk-container-id-1 div.sk-item::before, #sk-container-id-1 div.sk-parallel-item::before {content: \"\";position: absolute;border-left: 1px solid gray;box-sizing: border-box;top: 0;bottom: 0;left: 50%;z-index: -1;}#sk-container-id-1 div.sk-parallel-item {display: flex;flex-direction: column;z-index: 1;position: relative;background-color: white;}#sk-container-id-1 div.sk-parallel-item:first-child::after {align-self: flex-end;width: 50%;}#sk-container-id-1 div.sk-parallel-item:last-child::after {align-self: flex-start;width: 50%;}#sk-container-id-1 div.sk-parallel-item:only-child::after {width: 0;}#sk-container-id-1 div.sk-dashed-wrapped {border: 1px dashed gray;margin: 0 0.4em 0.5em 0.4em;box-sizing: border-box;padding-bottom: 0.4em;background-color: white;}#sk-container-id-1 div.sk-label label {font-family: monospace;font-weight: bold;display: inline-block;line-height: 1.2em;}#sk-container-id-1 div.sk-label-container {text-align: center;}#sk-container-id-1 div.sk-container {/* jupyter's `normalize.less` sets `[hidden] { display: none; }` but bootstrap.min.css set `[hidden] { display: none !important; }` so we also need the `!important` here to be able to override the default hidden behavior on the sphinx rendered scikit-learn.org. See: https://github.com/scikit-learn/scikit-learn/issues/21755 */display: inline-block !important;position: relative;}#sk-container-id-1 div.sk-text-repr-fallback {display: none;}</style><div id=\"sk-container-id-1\" class=\"sk-top-container\"><div class=\"sk-text-repr-fallback\"><pre>GridSearchCV(cv=StratifiedKFold(n_splits=5, random_state=42, shuffle=True),\n",
       "             estimator=SVC(random_state=42), n_jobs=-1,\n",
       "             param_grid={&#x27;C&#x27;: array([  0.1       ,   0.56234133,   3.16227766,  17.7827941 ,\n",
       "       100.        ]),\n",
       "                         &#x27;gamma&#x27;: [0.1, 0.5623413251903491, 3.1622776601683795,\n",
       "                                   17.78279410038923, 100.0, &#x27;auto&#x27;, &#x27;scale&#x27;],\n",
       "                         &#x27;kernel&#x27;: [&#x27;linear&#x27;, &#x27;rbf&#x27;, &#x27;poly&#x27;]},\n",
       "             refit=&#x27;accuracy&#x27;, return_train_score=True, scoring=[&#x27;accuracy&#x27;])</pre><b>In a Jupyter environment, please rerun this cell to show the HTML representation or trust the notebook. <br />On GitHub, the HTML representation is unable to render, please try loading this page with nbviewer.org.</b></div><div class=\"sk-container\" hidden><div class=\"sk-item sk-dashed-wrapped\"><div class=\"sk-label-container\"><div class=\"sk-label sk-toggleable\"><input class=\"sk-toggleable__control sk-hidden--visually\" id=\"sk-estimator-id-1\" type=\"checkbox\" ><label for=\"sk-estimator-id-1\" class=\"sk-toggleable__label sk-toggleable__label-arrow\">GridSearchCV</label><div class=\"sk-toggleable__content\"><pre>GridSearchCV(cv=StratifiedKFold(n_splits=5, random_state=42, shuffle=True),\n",
       "             estimator=SVC(random_state=42), n_jobs=-1,\n",
       "             param_grid={&#x27;C&#x27;: array([  0.1       ,   0.56234133,   3.16227766,  17.7827941 ,\n",
       "       100.        ]),\n",
       "                         &#x27;gamma&#x27;: [0.1, 0.5623413251903491, 3.1622776601683795,\n",
       "                                   17.78279410038923, 100.0, &#x27;auto&#x27;, &#x27;scale&#x27;],\n",
       "                         &#x27;kernel&#x27;: [&#x27;linear&#x27;, &#x27;rbf&#x27;, &#x27;poly&#x27;]},\n",
       "             refit=&#x27;accuracy&#x27;, return_train_score=True, scoring=[&#x27;accuracy&#x27;])</pre></div></div></div><div class=\"sk-parallel\"><div class=\"sk-parallel-item\"><div class=\"sk-item\"><div class=\"sk-label-container\"><div class=\"sk-label sk-toggleable\"><input class=\"sk-toggleable__control sk-hidden--visually\" id=\"sk-estimator-id-2\" type=\"checkbox\" ><label for=\"sk-estimator-id-2\" class=\"sk-toggleable__label sk-toggleable__label-arrow\">estimator: SVC</label><div class=\"sk-toggleable__content\"><pre>SVC(random_state=42)</pre></div></div></div><div class=\"sk-serial\"><div class=\"sk-item\"><div class=\"sk-estimator sk-toggleable\"><input class=\"sk-toggleable__control sk-hidden--visually\" id=\"sk-estimator-id-3\" type=\"checkbox\" ><label for=\"sk-estimator-id-3\" class=\"sk-toggleable__label sk-toggleable__label-arrow\">SVC</label><div class=\"sk-toggleable__content\"><pre>SVC(random_state=42)</pre></div></div></div></div></div></div></div></div></div></div>"
      ],
      "text/plain": [
       "GridSearchCV(cv=StratifiedKFold(n_splits=5, random_state=42, shuffle=True),\n",
       "             estimator=SVC(random_state=42), n_jobs=-1,\n",
       "             param_grid={'C': array([  0.1       ,   0.56234133,   3.16227766,  17.7827941 ,\n",
       "       100.        ]),\n",
       "                         'gamma': [0.1, 0.5623413251903491, 3.1622776601683795,\n",
       "                                   17.78279410038923, 100.0, 'auto', 'scale'],\n",
       "                         'kernel': ['linear', 'rbf', 'poly']},\n",
       "             refit='accuracy', return_train_score=True, scoring=['accuracy'])"
      ]
     },
     "execution_count": 11,
     "metadata": {},
     "output_type": "execute_result"
    }
   ],
   "source": [
    "# Fit grid search\n",
    "grid_result = grid_search.fit(X_train, y_train)\n",
    "\n",
    "# Print grid search summary\n",
    "grid_result"
   ]
  },
  {
   "cell_type": "code",
   "execution_count": 12,
   "id": "8ea1a7b2",
   "metadata": {},
   "outputs": [],
   "source": [
    "grid_search_df=pd.DataFrame(grid_search.cv_results_)\n",
    "grid_search_df.to_excel(\"1_Gridsearch_results.xlsx\")"
   ]
  },
  {
   "cell_type": "code",
   "execution_count": 13,
   "id": "0354335b",
   "metadata": {},
   "outputs": [
    {
     "data": {
      "text/plain": [
       "{'cv': StratifiedKFold(n_splits=5, random_state=42, shuffle=True),\n",
       " 'error_score': nan,\n",
       " 'estimator__C': 1.0,\n",
       " 'estimator__break_ties': False,\n",
       " 'estimator__cache_size': 200,\n",
       " 'estimator__class_weight': None,\n",
       " 'estimator__coef0': 0.0,\n",
       " 'estimator__decision_function_shape': 'ovr',\n",
       " 'estimator__degree': 3,\n",
       " 'estimator__gamma': 'scale',\n",
       " 'estimator__kernel': 'rbf',\n",
       " 'estimator__max_iter': -1,\n",
       " 'estimator__probability': False,\n",
       " 'estimator__random_state': 42,\n",
       " 'estimator__shrinking': True,\n",
       " 'estimator__tol': 0.001,\n",
       " 'estimator__verbose': False,\n",
       " 'estimator': SVC(random_state=42),\n",
       " 'n_jobs': -1,\n",
       " 'param_grid': {'C': array([  0.1       ,   0.56234133,   3.16227766,  17.7827941 ,\n",
       "         100.        ]),\n",
       "  'kernel': ['linear', 'rbf', 'poly'],\n",
       "  'gamma': [0.1,\n",
       "   0.5623413251903491,\n",
       "   3.1622776601683795,\n",
       "   17.78279410038923,\n",
       "   100.0,\n",
       "   'auto',\n",
       "   'scale']},\n",
       " 'pre_dispatch': '2*n_jobs',\n",
       " 'refit': 'accuracy',\n",
       " 'return_train_score': True,\n",
       " 'scoring': ['accuracy'],\n",
       " 'verbose': 0}"
      ]
     },
     "execution_count": 13,
     "metadata": {},
     "output_type": "execute_result"
    }
   ],
   "source": [
    "grid_result.get_params()"
   ]
  },
  {
   "cell_type": "code",
   "execution_count": 14,
   "id": "a91b56e9",
   "metadata": {},
   "outputs": [
    {
     "data": {
      "text/html": [
       "<div>\n",
       "<style scoped>\n",
       "    .dataframe tbody tr th:only-of-type {\n",
       "        vertical-align: middle;\n",
       "    }\n",
       "\n",
       "    .dataframe tbody tr th {\n",
       "        vertical-align: top;\n",
       "    }\n",
       "\n",
       "    .dataframe thead th {\n",
       "        text-align: right;\n",
       "    }\n",
       "</style>\n",
       "<table border=\"1\" class=\"dataframe\">\n",
       "  <thead>\n",
       "    <tr style=\"text-align: right;\">\n",
       "      <th></th>\n",
       "      <th>cv</th>\n",
       "      <th>error_score</th>\n",
       "      <th>estimator__C</th>\n",
       "      <th>estimator__break_ties</th>\n",
       "      <th>estimator__cache_size</th>\n",
       "      <th>estimator__class_weight</th>\n",
       "      <th>estimator__coef0</th>\n",
       "      <th>estimator__decision_function_shape</th>\n",
       "      <th>estimator__degree</th>\n",
       "      <th>estimator__gamma</th>\n",
       "      <th>...</th>\n",
       "      <th>estimator__tol</th>\n",
       "      <th>estimator__verbose</th>\n",
       "      <th>estimator</th>\n",
       "      <th>n_jobs</th>\n",
       "      <th>param_grid</th>\n",
       "      <th>pre_dispatch</th>\n",
       "      <th>refit</th>\n",
       "      <th>return_train_score</th>\n",
       "      <th>scoring</th>\n",
       "      <th>verbose</th>\n",
       "    </tr>\n",
       "  </thead>\n",
       "  <tbody>\n",
       "    <tr>\n",
       "      <th>0</th>\n",
       "      <td>StratifiedKFold(n_splits=5, random_state=42, s...</td>\n",
       "      <td>NaN</td>\n",
       "      <td>1.0</td>\n",
       "      <td>False</td>\n",
       "      <td>200</td>\n",
       "      <td>None</td>\n",
       "      <td>0.0</td>\n",
       "      <td>ovr</td>\n",
       "      <td>3</td>\n",
       "      <td>scale</td>\n",
       "      <td>...</td>\n",
       "      <td>0.001</td>\n",
       "      <td>False</td>\n",
       "      <td>SVC(random_state=42)</td>\n",
       "      <td>-1</td>\n",
       "      <td>NaN</td>\n",
       "      <td>2*n_jobs</td>\n",
       "      <td>accuracy</td>\n",
       "      <td>True</td>\n",
       "      <td>accuracy</td>\n",
       "      <td>0</td>\n",
       "    </tr>\n",
       "  </tbody>\n",
       "</table>\n",
       "<p>1 rows × 25 columns</p>\n",
       "</div>"
      ],
      "text/plain": [
       "                                                  cv  error_score  \\\n",
       "0  StratifiedKFold(n_splits=5, random_state=42, s...          NaN   \n",
       "\n",
       "   estimator__C  estimator__break_ties  estimator__cache_size  \\\n",
       "0           1.0                  False                    200   \n",
       "\n",
       "  estimator__class_weight  estimator__coef0  \\\n",
       "0                    None               0.0   \n",
       "\n",
       "  estimator__decision_function_shape  estimator__degree estimator__gamma  ...  \\\n",
       "0                                ovr                  3            scale  ...   \n",
       "\n",
       "  estimator__tol  estimator__verbose             estimator  n_jobs  \\\n",
       "0          0.001               False  SVC(random_state=42)      -1   \n",
       "\n",
       "   param_grid  pre_dispatch     refit return_train_score   scoring  verbose  \n",
       "0         NaN      2*n_jobs  accuracy               True  accuracy        0  \n",
       "\n",
       "[1 rows x 25 columns]"
      ]
     },
     "execution_count": 14,
     "metadata": {},
     "output_type": "execute_result"
    }
   ],
   "source": [
    "pd.DataFrame(data = grid_result.get_params(),index=[0])"
   ]
  },
  {
   "cell_type": "code",
   "execution_count": 15,
   "id": "4e6cbbe5",
   "metadata": {},
   "outputs": [
    {
     "name": "stdout",
     "output_type": "stream",
     "text": [
      "The best accuracy score for the training dataset is 0.9741997264021889\n",
      "The best hyperparameters are {'C': 0.1, 'gamma': 0.1, 'kernel': 'linear'}\n",
      "The accuracy score for the testing dataset is 0.986013986013986\n"
     ]
    }
   ],
   "source": [
    "# Print the best accuracy score for the training dataset\n",
    "print(f'The best accuracy score for the training dataset is {grid_result.best_score_}')\n",
    "\n",
    "# Print the hyperparameters for the best score\n",
    "print(f'The best hyperparameters are {grid_result.best_params_}')\n",
    "\n",
    "# Print the best accuracy score for the testing dataset\n",
    "print(f'The accuracy score for the testing dataset is {grid_search.score(X_test, y_test)}')"
   ]
  }
 ],
 "metadata": {
  "kernelspec": {
   "display_name": "Python 3 (ipykernel)",
   "language": "python",
   "name": "python3"
  },
  "language_info": {
   "codemirror_mode": {
    "name": "ipython",
    "version": 3
   },
   "file_extension": ".py",
   "mimetype": "text/x-python",
   "name": "python",
   "nbconvert_exporter": "python",
   "pygments_lexer": "ipython3",
   "version": "3.9.12"
  }
 },
 "nbformat": 4,
 "nbformat_minor": 5
}
